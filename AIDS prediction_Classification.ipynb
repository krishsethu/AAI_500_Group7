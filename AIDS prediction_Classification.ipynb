{
 "cells": [
  {
   "cell_type": "markdown",
   "id": "2fe67e60-0cba-4903-b5f2-1b6345677b0a",
   "metadata": {},
   "source": [
    "Group 7  solution"
   ]
  },
  {
   "cell_type": "markdown",
   "id": "e49c39fc-3ac4-4bc8-8f80-55c02c2f6a8b",
   "metadata": {},
   "source": [
    "## Importing Libraries"
   ]
  },
  {
   "cell_type": "code",
   "execution_count": null,
   "id": "c8b071b2-38e1-4d61-bc62-2c48c5da7081",
   "metadata": {},
   "outputs": [],
   "source": [
    "import pandas as pd\n",
    "import numpy as np\n",
    "import sklearn.datasets"
   ]
  },
  {
   "cell_type": "code",
   "execution_count": null,
   "id": "50db6b5b-48ca-408b-8626-06ec41b562d2",
   "metadata": {},
   "outputs": [],
   "source": []
  }
 ],
 "metadata": {
  "kernelspec": {
   "display_name": "Python 3 (ipykernel)",
   "language": "python",
   "name": "python3"
  },
  "language_info": {
   "codemirror_mode": {
    "name": "ipython",
    "version": 3
   },
   "file_extension": ".py",
   "mimetype": "text/x-python",
   "name": "python",
   "nbconvert_exporter": "python",
   "pygments_lexer": "ipython3",
   "version": "3.11.7"
  }
 },
 "nbformat": 4,
 "nbformat_minor": 5
}
